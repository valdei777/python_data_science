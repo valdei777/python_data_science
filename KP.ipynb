{
 "cells": [
  {
   "cell_type": "code",
   "execution_count": 1,
   "metadata": {},
   "outputs": [],
   "source": [
    "import numpy as np\n",
    "import pandas as pd\n",
    "import random\n",
    "\n",
    "from sklearn.model_selection import train_test_split, cross_val_score\n",
    "from sklearn.preprocessing import StandardScaler\n",
    "from sklearn.ensemble import RandomForestRegressor, GradientBoostingRegressor, RandomForestClassifier\n",
    "from sklearn.metrics import r2_score as r2, accuracy_score\n",
    "from sklearn.model_selection import KFold, GridSearchCV\n",
    "from sklearn.linear_model import Ridge, Lasso, LinearRegression\n",
    "from xgboost import XGBRegressor, XGBClassifier\n",
    "from lightgbm import LGBMRegressor, LGBMClassifier\n",
    "\n",
    "import seaborn as sns\n",
    "import matplotlib\n",
    "import matplotlib.pyplot as plt\n",
    "%config InlineBackend.figure_format = 'svg'\n",
    "%matplotlib inline\n",
    "\n",
    "DATASET_PATH_TRAIN = 'train.csv'\n",
    "DATASET_PATH_TEST = 'test.csv'\n",
    "PREPARED_DATASET_PATH = 'VSerduykov_predictions.csv'\n",
    "df_train = pd.read_csv(DATASET_PATH_TRAIN)\n",
    "df_test = pd.read_csv(DATASET_PATH_TEST) "
   ]
  },
  {
   "cell_type": "code",
   "execution_count": 2,
   "metadata": {},
   "outputs": [],
   "source": [
    "# функция заменяет значения в котегориальных признаках\n",
    "def test_job(df_tests):\n",
    "    df_tests.replace({'Ecology_2':{'A':0, 'B':1}, 'Shops_2':{'A':0, 'B':1}, 'Ecology_3':{'A':0, 'B':1}}, inplace=True)\n",
    "    return df_tests"
   ]
  },
  {
   "cell_type": "code",
   "execution_count": 3,
   "metadata": {},
   "outputs": [],
   "source": [
    "# заменяем LifeSquare в случе отсутствия либо меньшей площади чем общая на значение (площадь - площадь кухни и *0,85) \n",
    "def fill_Life_Square(df_train):\n",
    "    df_train.loc[(df_train['Square'] < df_train['LifeSquare']) | (df_train['LifeSquare'].isna()), 'LifeSquare'] =\\\n",
    "    (df_train.loc[(df_train['Square'] < df_train['LifeSquare']) | (df_train['LifeSquare'].isna()), 'Square'] -  \n",
    "     df_train.loc[(df_train['Square'] < df_train['LifeSquare']) | (df_train['LifeSquare'].isna()), 'KitchenSquare'])*0.85\n",
    "    return df_train"
   ]
  },
  {
   "cell_type": "code",
   "execution_count": 4,
   "metadata": {},
   "outputs": [],
   "source": [
    "df_train = test_job(df_train)"
   ]
  },
  {
   "cell_type": "code",
   "execution_count": 5,
   "metadata": {},
   "outputs": [],
   "source": [
    "df_train = fill_Life_Square(df_train)"
   ]
  },
  {
   "cell_type": "code",
   "execution_count": 6,
   "metadata": {},
   "outputs": [],
   "source": [
    "X_train, X_test, y_train, y_test = train_test_split(df_train.drop(['Id', 'Healthcare_1', 'Price'], axis='columns'),\n",
    "                                                    df_train['Price'], test_size=0.2,\n",
    "                                                    random_state=22)"
   ]
  },
  {
   "cell_type": "code",
   "execution_count": 7,
   "metadata": {},
   "outputs": [],
   "source": [
    "model_RFR = RandomForestRegressor(max_depth=15, n_estimators=200, random_state=55)"
   ]
  },
  {
   "cell_type": "code",
   "execution_count": 8,
   "metadata": {},
   "outputs": [
    {
     "data": {
      "text/plain": [
       "0.7102740943337091"
      ]
     },
     "execution_count": 8,
     "metadata": {},
     "output_type": "execute_result"
    }
   ],
   "source": [
    "model_RFR.fit(X_train, y_train)\n",
    "predicts=model_RFR.predict(X_test)\n",
    "r2(y_test, predicts)"
   ]
  },
  {
   "cell_type": "code",
   "execution_count": 9,
   "metadata": {},
   "outputs": [],
   "source": [
    "model_RFR.fit(df_train.drop(['Id', 'Healthcare_1', 'Price', 'Shops_2', 'Ecology_3', 'Ecology_2'], \n",
    "                            axis='columns'), df_train['Price'])\n",
    "df_test = test_job(df_test)\n",
    "df_test = fill_Life_Square(df_test)\n",
    "rez = model_RFR.predict(df_test.drop(['Id', 'Healthcare_1', 'Shops_2', 'Ecology_3', 'Ecology_2'], axis='columns'))\n",
    "df_test['Price']=rez\n",
    "df_test[['Id', 'Price']].to_csv(PREPARED_DATASET_PATH, index=False)"
   ]
  },
  {
   "cell_type": "code",
   "execution_count": null,
   "metadata": {},
   "outputs": [],
   "source": []
  }
 ],
 "metadata": {
  "kernelspec": {
   "display_name": "Python 3",
   "language": "python",
   "name": "python3"
  },
  "language_info": {
   "codemirror_mode": {
    "name": "ipython",
    "version": 3
   },
   "file_extension": ".py",
   "mimetype": "text/x-python",
   "name": "python",
   "nbconvert_exporter": "python",
   "pygments_lexer": "ipython3",
   "version": "3.7.6"
  }
 },
 "nbformat": 4,
 "nbformat_minor": 4
}
